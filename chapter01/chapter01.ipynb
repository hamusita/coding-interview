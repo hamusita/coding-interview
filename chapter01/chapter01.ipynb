{
 "cells": [
  {
   "cell_type": "markdown",
   "source": [
    "# chapter 1\n",
    "## list and structure"
   ],
   "metadata": {}
  },
  {
   "cell_type": "markdown",
   "source": [
    "### 1.1 ある文字列に重複する文字があるかどうか調べる"
   ],
   "metadata": {}
  },
  {
   "cell_type": "code",
   "execution_count": 21,
   "source": [
    "def check_str(s):\n",
    "    s = list(s)\n",
    "    c = s.copy()\n",
    "    for i in c:\n",
    "        s.pop(0)\n",
    "        print(i, s)\n",
    "        if i in s:\n",
    "            return False\n",
    "    return True"
   ],
   "outputs": [],
   "metadata": {}
  },
  {
   "cell_type": "code",
   "execution_count": 23,
   "source": [
    "check_str(\"abcdefgh\")\n"
   ],
   "outputs": [
    {
     "output_type": "stream",
     "name": "stdout",
     "text": [
      "a ['b', 'c', 'd', 'e', 'f', 'g', 'h']\n",
      "b ['c', 'd', 'e', 'f', 'g', 'h']\n",
      "c ['d', 'e', 'f', 'g', 'h']\n",
      "d ['e', 'f', 'g', 'h']\n",
      "e ['f', 'g', 'h']\n",
      "f ['g', 'h']\n",
      "g ['h']\n",
      "h []\n"
     ]
    },
    {
     "output_type": "execute_result",
     "data": {
      "text/plain": [
       "True"
      ]
     },
     "metadata": {},
     "execution_count": 23
    }
   ],
   "metadata": {}
  },
  {
   "cell_type": "markdown",
   "source": [
    "### 1.2 文字列を反転"
   ],
   "metadata": {}
  },
  {
   "cell_type": "code",
   "execution_count": 24,
   "source": [
    "def reverse(s):\n",
    "    return s[::-1]"
   ],
   "outputs": [],
   "metadata": {}
  },
  {
   "cell_type": "code",
   "execution_count": 25,
   "source": [
    "reverse(\"abcdefgh\")"
   ],
   "outputs": [
    {
     "output_type": "execute_result",
     "data": {
      "text/plain": [
       "'hgfedcba'"
      ]
     },
     "metadata": {},
     "execution_count": 25
    }
   ],
   "metadata": {}
  },
  {
   "cell_type": "markdown",
   "source": [
    "### 1.3 一方の文字列がもう一方の並び替えになっているかどうか"
   ],
   "metadata": {}
  },
  {
   "cell_type": "code",
   "execution_count": 30,
   "source": [
    "def sorting(s1, s2):\n",
    "    s1, s2 = sorted(list(s1)), sorted(list(s2))\n",
    "    for i, j in zip(s1, s2):\n",
    "        if i != j:\n",
    "            return False\n",
    "    return True"
   ],
   "outputs": [],
   "metadata": {}
  },
  {
   "cell_type": "code",
   "execution_count": 32,
   "source": [
    "sorting(\"abcdefgh\", \"cadbgf\")"
   ],
   "outputs": [
    {
     "output_type": "execute_result",
     "data": {
      "text/plain": [
       "False"
      ]
     },
     "metadata": {},
     "execution_count": 32
    }
   ],
   "metadata": {}
  },
  {
   "cell_type": "markdown",
   "source": [
    "### 1.4 文字列の空白を\"%20\"で置き換えるメソッドを書け"
   ],
   "metadata": {}
  },
  {
   "cell_type": "code",
   "execution_count": 33,
   "source": [
    "def replace_str(s):\n",
    "    return s.replace(' ', '%20')"
   ],
   "outputs": [],
   "metadata": {}
  },
  {
   "cell_type": "code",
   "execution_count": 34,
   "source": [
    "replace_str(\"adfs  sefes ds\")"
   ],
   "outputs": [
    {
     "output_type": "execute_result",
     "data": {
      "text/plain": [
       "'adfs%20%20sefes%20ds'"
      ]
     },
     "metadata": {},
     "execution_count": 34
    }
   ],
   "metadata": {}
  },
  {
   "cell_type": "markdown",
   "source": [
    "### 1.5 文字列の連続部を圧縮するメソッドを書け"
   ],
   "metadata": {}
  },
  {
   "cell_type": "code",
   "execution_count": 1,
   "source": [
    "def compress(s):\n",
    "    s = list(s)\n",
    "    c, cnt = \"\", 0\n",
    "    l = []\n",
    "    for i in s:\n",
    "        if i != c:\n",
    "            if cnt > 1:\n",
    "                l.append(str(cnt))\n",
    "            l.append(i)\n",
    "            # init\n",
    "            c = i\n",
    "            cnt = 1\n",
    "        else:\n",
    "            cnt += 1\n",
    "    if cnt > 1:\n",
    "        l.append(str(cnt))\n",
    "    \n",
    "    return l\n",
    "        "
   ],
   "outputs": [],
   "metadata": {}
  },
  {
   "cell_type": "code",
   "execution_count": 2,
   "source": [
    "compress(\"aabcccccaaa\")"
   ],
   "outputs": [
    {
     "output_type": "execute_result",
     "data": {
      "text/plain": [
       "['a', '2', 'b', 'c', '5', 'a', '3']"
      ]
     },
     "metadata": {},
     "execution_count": 2
    }
   ],
   "metadata": {}
  },
  {
   "cell_type": "markdown",
   "source": [
    "### 1.6 1pixel4bit四方の画像を90度回転させるプログラムを書け"
   ],
   "metadata": {}
  },
  {
   "cell_type": "code",
   "execution_count": 3,
   "source": [
    "import numpy as np\n",
    "arr = np.random.randint(0, 2, (4, 8))\n",
    "print(arr)"
   ],
   "outputs": [
    {
     "output_type": "stream",
     "name": "stdout",
     "text": [
      "[[1 0 1 1 0 0 0 0]\n",
      " [0 0 1 0 0 0 1 0]\n",
      " [1 1 0 1 0 0 0 0]\n",
      " [0 0 0 1 1 1 0 0]]\n"
     ]
    }
   ],
   "metadata": {}
  },
  {
   "cell_type": "code",
   "execution_count": 7,
   "source": [
    "arr.T[::-1]"
   ],
   "outputs": [
    {
     "output_type": "execute_result",
     "data": {
      "text/plain": [
       "array([[0, 0, 0, 0],\n",
       "       [0, 1, 0, 0],\n",
       "       [0, 0, 0, 1],\n",
       "       [0, 0, 0, 1],\n",
       "       [1, 0, 1, 1],\n",
       "       [1, 1, 0, 0],\n",
       "       [0, 0, 1, 0],\n",
       "       [1, 0, 1, 0]])"
      ]
     },
     "metadata": {},
     "execution_count": 7
    }
   ],
   "metadata": {}
  },
  {
   "cell_type": "code",
   "execution_count": 8,
   "source": [
    "def roteto(arr):\n",
    "    arr = arr.T[::-1]\n",
    "    h, w = arr.shape\n",
    "    for i in range(0, h, 2):\n",
    "        for j in range(0, w, 2):\n",
    "            arr[i][j], arr[i][j+1], arr[i+1][j+1], arr[i+1][j] = arr[i+1][j], arr[i][j], arr[i][j+1], arr[i+1][j+1]\n",
    "    return arr"
   ],
   "outputs": [],
   "metadata": {}
  },
  {
   "cell_type": "code",
   "execution_count": 9,
   "source": [
    "roteto(arr)"
   ],
   "outputs": [
    {
     "output_type": "execute_result",
     "data": {
      "text/plain": [
       "array([[0, 0, 0, 0],\n",
       "       [1, 0, 0, 0],\n",
       "       [0, 0, 0, 0],\n",
       "       [0, 0, 1, 1],\n",
       "       [1, 1, 0, 1],\n",
       "       [1, 0, 0, 1],\n",
       "       [1, 0, 1, 1],\n",
       "       [0, 0, 0, 0]])"
      ]
     },
     "metadata": {},
     "execution_count": 9
    }
   ],
   "metadata": {}
  },
  {
   "cell_type": "code",
   "execution_count": null,
   "source": [],
   "outputs": [],
   "metadata": {}
  }
 ],
 "metadata": {
  "interpreter": {
   "hash": "95bc564f92acb223847703fcafbedb1246c3467d1b966b5ce84b1c9715683393"
  },
  "kernelspec": {
   "name": "python3",
   "display_name": "Python 3.7.4 64-bit ('base': conda)"
  },
  "language_info": {
   "codemirror_mode": {
    "name": "ipython",
    "version": 3
   },
   "file_extension": ".py",
   "mimetype": "text/x-python",
   "name": "python",
   "nbconvert_exporter": "python",
   "pygments_lexer": "ipython3",
   "version": "3.7.4"
  },
  "orig_nbformat": 4
 },
 "nbformat": 4,
 "nbformat_minor": 2
}